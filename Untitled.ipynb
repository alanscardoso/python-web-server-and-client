{
 "cells": [
  {
   "cell_type": "code",
   "execution_count": 26,
   "metadata": {
    "collapsed": false
   },
   "outputs": [
    {
     "name": "stdout",
     "output_type": "stream",
     "text": [
      "['www.teste.com.br', 'file', 'j.htm']\n",
      "1\n",
      "2\n"
     ]
    },
    {
     "data": {
      "text/plain": [
       "True"
      ]
     },
     "execution_count": 26,
     "metadata": {},
     "output_type": "execute_result"
    }
   ],
   "source": [
    "url = 'www.teste.com.br/file/j.htm'\n",
    "\n",
    "def is_url_ok(url):\n",
    "    protocol = ''\n",
    "    host = ''\n",
    "    port = ''\n",
    "    file = ''\n",
    "\n",
    "    list = site.split('://')\n",
    "    if len(list) > 1:\n",
    "        protocol = list[0]\n",
    "        host = list[1]\n",
    "    else:\n",
    "        host = list[0]\n",
    "\n",
    "    list = host.split('/')\n",
    "    if len(list) > 1:\n",
    "        print(list)\n",
    "        host = list[0]\n",
    "\n",
    "        for i in range(1, len(list)):\n",
    "            print(i)\n",
    "            file += '/' + list[i]\n",
    "\n",
    "    list = host.split(':')\n",
    "    if len(list) > 1:\n",
    "        host = list[0]\n",
    "        port = list[1]\n",
    "    else:\n",
    "        host = list[0]\n",
    "        port = '80'\n",
    "\n",
    "    if file != '':\n",
    "        host += file\n",
    "\n",
    "    if protocol != '' and protocol != 'http':\n",
    "        print('Protocolo nao suportado')\n",
    "        return False\n",
    "    \n",
    "    return True, host, port\n",
    "    \n",
    "is_url_ok(url)"
   ]
  },
  {
   "cell_type": "code",
   "execution_count": null,
   "metadata": {
    "collapsed": true
   },
   "outputs": [],
   "source": []
  }
 ],
 "metadata": {
  "kernelspec": {
   "display_name": "Python 3",
   "language": "python",
   "name": "python3"
  },
  "language_info": {
   "codemirror_mode": {
    "name": "ipython",
    "version": 3
   },
   "file_extension": ".py",
   "mimetype": "text/x-python",
   "name": "python",
   "nbconvert_exporter": "python",
   "pygments_lexer": "ipython3",
   "version": "3.6.0"
  }
 },
 "nbformat": 4,
 "nbformat_minor": 2
}
